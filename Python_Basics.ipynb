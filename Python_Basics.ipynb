{
 "cells": [
  {
   "cell_type": "code",
   "execution_count": null,
   "id": "1d26cd88",
   "metadata": {},
   "outputs": [],
   "source": [
    "a = 5.8\n",
    "a\n",
    "type(a)"
   ]
  },
  {
   "cell_type": "code",
   "execution_count": 2,
   "id": "d3b97edc",
   "metadata": {},
   "outputs": [
    {
     "data": {
      "text/plain": [
       "'3.9.12 (main, Apr  5 2022, 01:53:17) \\n[Clang 12.0.0 ]'"
      ]
     },
     "execution_count": 2,
     "metadata": {},
     "output_type": "execute_result"
    }
   ],
   "source": [
    "import sys\n",
    "sys.version"
   ]
  },
  {
   "cell_type": "markdown",
   "id": "cf5f3d04",
   "metadata": {},
   "source": [
    "keyword is a package and keyword.kwlist will give all the reserved keywords"
   ]
  },
  {
   "cell_type": "code",
   "execution_count": 3,
   "id": "310dcd9d",
   "metadata": {},
   "outputs": [
    {
     "data": {
      "text/plain": [
       "['False',\n",
       " 'None',\n",
       " 'True',\n",
       " '__peg_parser__',\n",
       " 'and',\n",
       " 'as',\n",
       " 'assert',\n",
       " 'async',\n",
       " 'await',\n",
       " 'break',\n",
       " 'class',\n",
       " 'continue',\n",
       " 'def',\n",
       " 'del',\n",
       " 'elif',\n",
       " 'else',\n",
       " 'except',\n",
       " 'finally',\n",
       " 'for',\n",
       " 'from',\n",
       " 'global',\n",
       " 'if',\n",
       " 'import',\n",
       " 'in',\n",
       " 'is',\n",
       " 'lambda',\n",
       " 'nonlocal',\n",
       " 'not',\n",
       " 'or',\n",
       " 'pass',\n",
       " 'raise',\n",
       " 'return',\n",
       " 'try',\n",
       " 'while',\n",
       " 'with',\n",
       " 'yield']"
      ]
     },
     "execution_count": 3,
     "metadata": {},
     "output_type": "execute_result"
    }
   ],
   "source": [
    "import keyword\n",
    "keyword.kwlist"
   ]
  },
  {
   "cell_type": "code",
   "execution_count": 4,
   "id": "edcdcd79",
   "metadata": {},
   "outputs": [],
   "source": [
    "_abc_def = 10"
   ]
  },
  {
   "cell_type": "code",
   "execution_count": 5,
   "id": "b41332da",
   "metadata": {},
   "outputs": [
    {
     "name": "stdout",
     "output_type": "stream",
     "text": [
      "10\n"
     ]
    }
   ],
   "source": [
    "print(_abc_def)"
   ]
  },
  {
   "cell_type": "code",
   "execution_count": 6,
   "id": "6bce557f",
   "metadata": {},
   "outputs": [],
   "source": [
    "FOR = 15"
   ]
  },
  {
   "cell_type": "code",
   "execution_count": 8,
   "id": "6e2aa6b6",
   "metadata": {},
   "outputs": [
    {
     "name": "stdout",
     "output_type": "stream",
     "text": [
      "15\n"
     ]
    }
   ],
   "source": [
    "print(FOR)"
   ]
  },
  {
   "cell_type": "code",
   "execution_count": 9,
   "id": "db33b533",
   "metadata": {},
   "outputs": [],
   "source": [
    "a = True"
   ]
  },
  {
   "cell_type": "code",
   "execution_count": 10,
   "id": "e261a8c9",
   "metadata": {},
   "outputs": [
    {
     "data": {
      "text/plain": [
       "True"
      ]
     },
     "execution_count": 10,
     "metadata": {},
     "output_type": "execute_result"
    }
   ],
   "source": [
    "a"
   ]
  },
  {
   "cell_type": "code",
   "execution_count": 11,
   "id": "ccbd3a92",
   "metadata": {},
   "outputs": [],
   "source": [
    "import pandas as pd"
   ]
  },
  {
   "cell_type": "markdown",
   "id": "4ecaadbd",
   "metadata": {},
   "source": [
    "df is the identifier"
   ]
  },
  {
   "cell_type": "markdown",
   "id": "c9a2ded4",
   "metadata": {},
   "source": [
    "pd is alias instead of using panas everything we are using pd"
   ]
  },
  {
   "cell_type": "code",
   "execution_count": 13,
   "id": "3e3352df",
   "metadata": {},
   "outputs": [],
   "source": [
    "df = pd.DataFrame(keyword.kwlist)"
   ]
  },
  {
   "cell_type": "code",
   "execution_count": 14,
   "id": "cd81a223",
   "metadata": {},
   "outputs": [
    {
     "data": {
      "text/html": [
       "<div>\n",
       "<style scoped>\n",
       "    .dataframe tbody tr th:only-of-type {\n",
       "        vertical-align: middle;\n",
       "    }\n",
       "\n",
       "    .dataframe tbody tr th {\n",
       "        vertical-align: top;\n",
       "    }\n",
       "\n",
       "    .dataframe thead th {\n",
       "        text-align: right;\n",
       "    }\n",
       "</style>\n",
       "<table border=\"1\" class=\"dataframe\">\n",
       "  <thead>\n",
       "    <tr style=\"text-align: right;\">\n",
       "      <th></th>\n",
       "      <th>0</th>\n",
       "    </tr>\n",
       "  </thead>\n",
       "  <tbody>\n",
       "    <tr>\n",
       "      <th>0</th>\n",
       "      <td>False</td>\n",
       "    </tr>\n",
       "    <tr>\n",
       "      <th>1</th>\n",
       "      <td>None</td>\n",
       "    </tr>\n",
       "    <tr>\n",
       "      <th>2</th>\n",
       "      <td>True</td>\n",
       "    </tr>\n",
       "    <tr>\n",
       "      <th>3</th>\n",
       "      <td>__peg_parser__</td>\n",
       "    </tr>\n",
       "    <tr>\n",
       "      <th>4</th>\n",
       "      <td>and</td>\n",
       "    </tr>\n",
       "    <tr>\n",
       "      <th>5</th>\n",
       "      <td>as</td>\n",
       "    </tr>\n",
       "    <tr>\n",
       "      <th>6</th>\n",
       "      <td>assert</td>\n",
       "    </tr>\n",
       "    <tr>\n",
       "      <th>7</th>\n",
       "      <td>async</td>\n",
       "    </tr>\n",
       "    <tr>\n",
       "      <th>8</th>\n",
       "      <td>await</td>\n",
       "    </tr>\n",
       "    <tr>\n",
       "      <th>9</th>\n",
       "      <td>break</td>\n",
       "    </tr>\n",
       "    <tr>\n",
       "      <th>10</th>\n",
       "      <td>class</td>\n",
       "    </tr>\n",
       "    <tr>\n",
       "      <th>11</th>\n",
       "      <td>continue</td>\n",
       "    </tr>\n",
       "    <tr>\n",
       "      <th>12</th>\n",
       "      <td>def</td>\n",
       "    </tr>\n",
       "    <tr>\n",
       "      <th>13</th>\n",
       "      <td>del</td>\n",
       "    </tr>\n",
       "    <tr>\n",
       "      <th>14</th>\n",
       "      <td>elif</td>\n",
       "    </tr>\n",
       "    <tr>\n",
       "      <th>15</th>\n",
       "      <td>else</td>\n",
       "    </tr>\n",
       "    <tr>\n",
       "      <th>16</th>\n",
       "      <td>except</td>\n",
       "    </tr>\n",
       "    <tr>\n",
       "      <th>17</th>\n",
       "      <td>finally</td>\n",
       "    </tr>\n",
       "    <tr>\n",
       "      <th>18</th>\n",
       "      <td>for</td>\n",
       "    </tr>\n",
       "    <tr>\n",
       "      <th>19</th>\n",
       "      <td>from</td>\n",
       "    </tr>\n",
       "    <tr>\n",
       "      <th>20</th>\n",
       "      <td>global</td>\n",
       "    </tr>\n",
       "    <tr>\n",
       "      <th>21</th>\n",
       "      <td>if</td>\n",
       "    </tr>\n",
       "    <tr>\n",
       "      <th>22</th>\n",
       "      <td>import</td>\n",
       "    </tr>\n",
       "    <tr>\n",
       "      <th>23</th>\n",
       "      <td>in</td>\n",
       "    </tr>\n",
       "    <tr>\n",
       "      <th>24</th>\n",
       "      <td>is</td>\n",
       "    </tr>\n",
       "    <tr>\n",
       "      <th>25</th>\n",
       "      <td>lambda</td>\n",
       "    </tr>\n",
       "    <tr>\n",
       "      <th>26</th>\n",
       "      <td>nonlocal</td>\n",
       "    </tr>\n",
       "    <tr>\n",
       "      <th>27</th>\n",
       "      <td>not</td>\n",
       "    </tr>\n",
       "    <tr>\n",
       "      <th>28</th>\n",
       "      <td>or</td>\n",
       "    </tr>\n",
       "    <tr>\n",
       "      <th>29</th>\n",
       "      <td>pass</td>\n",
       "    </tr>\n",
       "    <tr>\n",
       "      <th>30</th>\n",
       "      <td>raise</td>\n",
       "    </tr>\n",
       "    <tr>\n",
       "      <th>31</th>\n",
       "      <td>return</td>\n",
       "    </tr>\n",
       "    <tr>\n",
       "      <th>32</th>\n",
       "      <td>try</td>\n",
       "    </tr>\n",
       "    <tr>\n",
       "      <th>33</th>\n",
       "      <td>while</td>\n",
       "    </tr>\n",
       "    <tr>\n",
       "      <th>34</th>\n",
       "      <td>with</td>\n",
       "    </tr>\n",
       "    <tr>\n",
       "      <th>35</th>\n",
       "      <td>yield</td>\n",
       "    </tr>\n",
       "  </tbody>\n",
       "</table>\n",
       "</div>"
      ],
      "text/plain": [
       "                 0\n",
       "0            False\n",
       "1             None\n",
       "2             True\n",
       "3   __peg_parser__\n",
       "4              and\n",
       "5               as\n",
       "6           assert\n",
       "7            async\n",
       "8            await\n",
       "9            break\n",
       "10           class\n",
       "11        continue\n",
       "12             def\n",
       "13             del\n",
       "14            elif\n",
       "15            else\n",
       "16          except\n",
       "17         finally\n",
       "18             for\n",
       "19            from\n",
       "20          global\n",
       "21              if\n",
       "22          import\n",
       "23              in\n",
       "24              is\n",
       "25          lambda\n",
       "26        nonlocal\n",
       "27             not\n",
       "28              or\n",
       "29            pass\n",
       "30           raise\n",
       "31          return\n",
       "32             try\n",
       "33           while\n",
       "34            with\n",
       "35           yield"
      ]
     },
     "execution_count": 14,
     "metadata": {},
     "output_type": "execute_result"
    }
   ],
   "source": [
    "df"
   ]
  },
  {
   "cell_type": "markdown",
   "id": "490b234b",
   "metadata": {},
   "source": [
    "Number without decimal is called integer"
   ]
  },
  {
   "cell_type": "code",
   "execution_count": 15,
   "id": "24b1ec5e",
   "metadata": {},
   "outputs": [],
   "source": [
    "a = 45"
   ]
  },
  {
   "cell_type": "code",
   "execution_count": 16,
   "id": "3b15fba8",
   "metadata": {},
   "outputs": [],
   "source": [
    "a = 1111"
   ]
  },
  {
   "cell_type": "markdown",
   "id": "33364aeb",
   "metadata": {},
   "source": [
    "Binary Form (Base 2)"
   ]
  },
  {
   "cell_type": "code",
   "execution_count": 17,
   "id": "3329f4d6",
   "metadata": {},
   "outputs": [],
   "source": [
    "a = 0b1111"
   ]
  },
  {
   "cell_type": "code",
   "execution_count": 18,
   "id": "5cbfba5c",
   "metadata": {},
   "outputs": [
    {
     "data": {
      "text/plain": [
       "15"
      ]
     },
     "execution_count": 18,
     "metadata": {},
     "output_type": "execute_result"
    }
   ],
   "source": [
    "a"
   ]
  },
  {
   "cell_type": "markdown",
   "id": "f1c34664",
   "metadata": {},
   "source": [
    "Binary have only 0 or 1. So we will get an error"
   ]
  },
  {
   "cell_type": "code",
   "execution_count": 19,
   "id": "961eeb1a",
   "metadata": {},
   "outputs": [
    {
     "ename": "SyntaxError",
     "evalue": "invalid digit '2' in binary literal (1405162646.py, line 1)",
     "output_type": "error",
     "traceback": [
      "\u001b[0;36m  Input \u001b[0;32mIn [19]\u001b[0;36m\u001b[0m\n\u001b[0;31m    a = 0b222\u001b[0m\n\u001b[0m         ^\u001b[0m\n\u001b[0;31mSyntaxError\u001b[0m\u001b[0;31m:\u001b[0m invalid digit '2' in binary literal\n"
     ]
    }
   ],
   "source": [
    "a = 0b222"
   ]
  },
  {
   "cell_type": "markdown",
   "id": "f353cca4",
   "metadata": {},
   "source": [
    "Octal Form (Base 8)"
   ]
  },
  {
   "cell_type": "code",
   "execution_count": 20,
   "id": "4ad58b30",
   "metadata": {},
   "outputs": [],
   "source": [
    "a = 0o123"
   ]
  },
  {
   "cell_type": "code",
   "execution_count": 21,
   "id": "c6315e99",
   "metadata": {},
   "outputs": [
    {
     "data": {
      "text/plain": [
       "83"
      ]
     },
     "execution_count": 21,
     "metadata": {},
     "output_type": "execute_result"
    }
   ],
   "source": [
    "a"
   ]
  },
  {
   "cell_type": "code",
   "execution_count": 22,
   "id": "875e9fec",
   "metadata": {},
   "outputs": [
    {
     "data": {
      "text/plain": [
       "int"
      ]
     },
     "execution_count": 22,
     "metadata": {},
     "output_type": "execute_result"
    }
   ],
   "source": [
    "type(a)"
   ]
  },
  {
   "cell_type": "markdown",
   "id": "c01de5cd",
   "metadata": {},
   "source": [
    "Number with decimal is called float"
   ]
  },
  {
   "cell_type": "code",
   "execution_count": 1,
   "id": "c7e856d8",
   "metadata": {},
   "outputs": [],
   "source": [
    "g = 2.4e0"
   ]
  },
  {
   "cell_type": "code",
   "execution_count": 2,
   "id": "e154d028",
   "metadata": {},
   "outputs": [
    {
     "data": {
      "text/plain": [
       "2.4"
      ]
     },
     "execution_count": 2,
     "metadata": {},
     "output_type": "execute_result"
    }
   ],
   "source": [
    "g"
   ]
  },
  {
   "cell_type": "code",
   "execution_count": 3,
   "id": "21eff2fa",
   "metadata": {},
   "outputs": [
    {
     "data": {
      "text/plain": [
       "24.0"
      ]
     },
     "execution_count": 3,
     "metadata": {},
     "output_type": "execute_result"
    }
   ],
   "source": [
    "g = 2.4e1\n",
    "g"
   ]
  },
  {
   "cell_type": "code",
   "execution_count": 5,
   "id": "68dad32e",
   "metadata": {},
   "outputs": [
    {
     "data": {
      "text/plain": [
       "240.0"
      ]
     },
     "execution_count": 5,
     "metadata": {},
     "output_type": "execute_result"
    }
   ],
   "source": [
    "g = 2.4e2\n",
    "g"
   ]
  },
  {
   "cell_type": "code",
   "execution_count": 6,
   "id": "12095230",
   "metadata": {},
   "outputs": [
    {
     "data": {
      "text/plain": [
       "240.0"
      ]
     },
     "execution_count": 6,
     "metadata": {},
     "output_type": "execute_result"
    }
   ],
   "source": [
    "g = 2.4E2\n",
    "g"
   ]
  },
  {
   "cell_type": "markdown",
   "id": "e36b9ad6",
   "metadata": {},
   "source": [
    "exponential is not case sensistive. small or capital e can be used"
   ]
  },
  {
   "cell_type": "code",
   "execution_count": 7,
   "id": "1df3bb2b",
   "metadata": {},
   "outputs": [
    {
     "data": {
      "text/plain": [
       "(41.4+44.3j)"
      ]
     },
     "execution_count": 7,
     "metadata": {},
     "output_type": "execute_result"
    }
   ],
   "source": [
    "y = 20.5+2.3j\n",
    "z = 20.9+42.j\n",
    "y+z"
   ]
  },
  {
   "cell_type": "markdown",
   "id": "6260a75b",
   "metadata": {},
   "source": [
    "python will understand only j for the complex data type 40+20.3m will give an error"
   ]
  },
  {
   "cell_type": "markdown",
   "id": "74fa5619",
   "metadata": {},
   "source": [
    "Imaginary part will not accept binary, octave or hexadecimal data type"
   ]
  },
  {
   "cell_type": "code",
   "execution_count": 8,
   "id": "57393a6e",
   "metadata": {},
   "outputs": [
    {
     "data": {
      "text/plain": [
       "(-0.3999999999999986-39.7j)"
      ]
     },
     "execution_count": 8,
     "metadata": {},
     "output_type": "execute_result"
    }
   ],
   "source": [
    "y-z"
   ]
  },
  {
   "cell_type": "code",
   "execution_count": 9,
   "id": "74cd2ca6",
   "metadata": {},
   "outputs": [
    {
     "data": {
      "text/plain": [
       "(331.85+909.0699999999999j)"
      ]
     },
     "execution_count": 9,
     "metadata": {},
     "output_type": "execute_result"
    }
   ],
   "source": [
    "y*z"
   ]
  },
  {
   "cell_type": "code",
   "execution_count": 10,
   "id": "3a9418ea",
   "metadata": {},
   "outputs": [
    {
     "data": {
      "text/plain": [
       "(0.23857125331128085-0.3693776382331959j)"
      ]
     },
     "execution_count": 10,
     "metadata": {},
     "output_type": "execute_result"
    }
   ],
   "source": [
    "y/z"
   ]
  },
  {
   "cell_type": "code",
   "execution_count": 11,
   "id": "96e850eb",
   "metadata": {},
   "outputs": [
    {
     "data": {
      "text/plain": [
       "20.5"
      ]
     },
     "execution_count": 11,
     "metadata": {},
     "output_type": "execute_result"
    }
   ],
   "source": [
    "y.real"
   ]
  },
  {
   "cell_type": "markdown",
   "id": "0380757d",
   "metadata": {},
   "source": [
    "to see only the real part in the complex"
   ]
  },
  {
   "cell_type": "code",
   "execution_count": 13,
   "id": "25cf4480",
   "metadata": {},
   "outputs": [
    {
     "data": {
      "text/plain": [
       "2.3"
      ]
     },
     "execution_count": 13,
     "metadata": {},
     "output_type": "execute_result"
    }
   ],
   "source": [
    "y.imag"
   ]
  },
  {
   "cell_type": "markdown",
   "id": "9f13bb98",
   "metadata": {},
   "source": [
    "to see only the complex part in the complex"
   ]
  },
  {
   "cell_type": "code",
   "execution_count": 14,
   "id": "f87b36bd",
   "metadata": {},
   "outputs": [],
   "source": [
    "a = 10\n",
    "b = 20\n",
    "c = a > b"
   ]
  },
  {
   "cell_type": "code",
   "execution_count": 15,
   "id": "0298246d",
   "metadata": {},
   "outputs": [
    {
     "data": {
      "text/plain": [
       "False"
      ]
     },
     "execution_count": 15,
     "metadata": {},
     "output_type": "execute_result"
    }
   ],
   "source": [
    "c"
   ]
  },
  {
   "cell_type": "code",
   "execution_count": 17,
   "id": "8f629a2c",
   "metadata": {},
   "outputs": [
    {
     "data": {
      "text/plain": [
       "'Data Science'"
      ]
     },
     "execution_count": 17,
     "metadata": {},
     "output_type": "execute_result"
    }
   ],
   "source": [
    "Nethra = 'Data Science'\n",
    "Nethra"
   ]
  },
  {
   "cell_type": "code",
   "execution_count": 18,
   "id": "5b951f3d",
   "metadata": {},
   "outputs": [
    {
     "data": {
      "text/plain": [
       "'Data Science'"
      ]
     },
     "execution_count": 18,
     "metadata": {},
     "output_type": "execute_result"
    }
   ],
   "source": [
    "Nethra = \"Data Science\"\n",
    "Nethra"
   ]
  },
  {
   "cell_type": "code",
   "execution_count": 20,
   "id": "cd69a40e",
   "metadata": {},
   "outputs": [
    {
     "data": {
      "text/plain": [
       "\"'Data \\n Science'\""
      ]
     },
     "execution_count": 20,
     "metadata": {},
     "output_type": "execute_result"
    }
   ],
   "source": [
    "Nethra = \"'Data \\n Science'\"\n",
    "Nethra"
   ]
  },
  {
   "cell_type": "markdown",
   "id": "323c53ed",
   "metadata": {},
   "source": [
    "Type casting"
   ]
  },
  {
   "cell_type": "markdown",
   "id": "20c294a1",
   "metadata": {},
   "source": [
    "Float to int -> valid,\n",
    "String to int -> no,\n",
    "Bool to int -> valid,\n",
    "Complex to int -> no,"
   ]
  },
  {
   "cell_type": "markdown",
   "id": "c85c5865",
   "metadata": {},
   "source": [
    "int to float -> valid,\n",
    "String to float -> no,\n",
    "Bool to float -> valid,\n",
    "Complex to float -> no"
   ]
  },
  {
   "cell_type": "markdown",
   "id": "07d13501",
   "metadata": {},
   "source": [
    "For complex we can type cast anythiong except string"
   ]
  },
  {
   "cell_type": "markdown",
   "id": "8938a13e",
   "metadata": {},
   "source": [
    "For bool we can type cast anything "
   ]
  },
  {
   "cell_type": "markdown",
   "id": "6c6b8ee6",
   "metadata": {},
   "source": [
    "Address of memory location: id() "
   ]
  },
  {
   "cell_type": "code",
   "execution_count": 22,
   "id": "bf9e30e8",
   "metadata": {},
   "outputs": [
    {
     "name": "stdout",
     "output_type": "stream",
     "text": [
      "140206120561232\n"
     ]
    }
   ],
   "source": [
    "x=10\n",
    "print(id(x))"
   ]
  },
  {
   "cell_type": "markdown",
   "id": "3fae9cad",
   "metadata": {},
   "source": [
    "list is denoted in [ ]. It allows duplicaty values and have indexing. To add we use .append(), allows multiple data types"
   ]
  },
  {
   "cell_type": "code",
   "execution_count": 23,
   "id": "fb1b79b6",
   "metadata": {},
   "outputs": [],
   "source": [
    "l = []"
   ]
  },
  {
   "cell_type": "code",
   "execution_count": 24,
   "id": "9118b5da",
   "metadata": {},
   "outputs": [
    {
     "data": {
      "text/plain": [
       "[]"
      ]
     },
     "execution_count": 24,
     "metadata": {},
     "output_type": "execute_result"
    }
   ],
   "source": [
    "l"
   ]
  },
  {
   "cell_type": "code",
   "execution_count": 25,
   "id": "546763cd",
   "metadata": {},
   "outputs": [],
   "source": [
    "l.append(10)\n",
    "l.append(20)\n",
    "l.append(30)\n",
    "l.append(10)"
   ]
  },
  {
   "cell_type": "code",
   "execution_count": 26,
   "id": "c1243dc9",
   "metadata": {},
   "outputs": [
    {
     "data": {
      "text/plain": [
       "[10, 20, 30, 10]"
      ]
     },
     "execution_count": 26,
     "metadata": {},
     "output_type": "execute_result"
    }
   ],
   "source": [
    "l"
   ]
  },
  {
   "cell_type": "code",
   "execution_count": 27,
   "id": "2693ee24",
   "metadata": {},
   "outputs": [],
   "source": [
    "l.append('Neth')"
   ]
  },
  {
   "cell_type": "markdown",
   "id": "e41cad1e",
   "metadata": {},
   "source": [
    "To remove . remove() must be used"
   ]
  },
  {
   "cell_type": "code",
   "execution_count": 28,
   "id": "dd4f520a",
   "metadata": {},
   "outputs": [],
   "source": [
    "l.remove(10)"
   ]
  },
  {
   "cell_type": "code",
   "execution_count": 29,
   "id": "f70f5060",
   "metadata": {},
   "outputs": [
    {
     "data": {
      "text/plain": [
       "[20, 30, 10, 'Neth']"
      ]
     },
     "execution_count": 29,
     "metadata": {},
     "output_type": "execute_result"
    }
   ],
   "source": [
    "l"
   ]
  },
  {
   "cell_type": "markdown",
   "id": "280a3db8",
   "metadata": {},
   "source": [
    "List allows forward index and backward index also"
   ]
  },
  {
   "cell_type": "code",
   "execution_count": 30,
   "id": "06aa877d",
   "metadata": {},
   "outputs": [
    {
     "data": {
      "text/plain": [
       "'Neth'"
      ]
     },
     "execution_count": 30,
     "metadata": {},
     "output_type": "execute_result"
    }
   ],
   "source": [
    "l[3]"
   ]
  },
  {
   "cell_type": "code",
   "execution_count": 31,
   "id": "c6f6b6ce",
   "metadata": {},
   "outputs": [
    {
     "data": {
      "text/plain": [
       "[20, 30, 10]"
      ]
     },
     "execution_count": 31,
     "metadata": {},
     "output_type": "execute_result"
    }
   ],
   "source": [
    "l[0:3]"
   ]
  },
  {
   "cell_type": "code",
   "execution_count": 32,
   "id": "b9e96f0d",
   "metadata": {},
   "outputs": [
    {
     "data": {
      "text/plain": [
       "'Neth'"
      ]
     },
     "execution_count": 32,
     "metadata": {},
     "output_type": "execute_result"
    }
   ],
   "source": [
    "l[-1]"
   ]
  },
  {
   "cell_type": "markdown",
   "id": "fae4165d",
   "metadata": {},
   "source": [
    "Forward index start from 0 and backward index stars from -1"
   ]
  },
  {
   "cell_type": "markdown",
   "id": "950e69f9",
   "metadata": {},
   "source": [
    "Slicing - > [:]"
   ]
  },
  {
   "cell_type": "markdown",
   "id": "ca1ee246",
   "metadata": {},
   "source": [
    "Slicing is allowed in list"
   ]
  },
  {
   "cell_type": "code",
   "execution_count": 33,
   "id": "5f9a1a56",
   "metadata": {},
   "outputs": [],
   "source": [
    "l[1] = 2000"
   ]
  },
  {
   "cell_type": "code",
   "execution_count": 34,
   "id": "867b537d",
   "metadata": {},
   "outputs": [
    {
     "data": {
      "text/plain": [
       "[20, 2000, 10, 'Neth']"
      ]
     },
     "execution_count": 34,
     "metadata": {},
     "output_type": "execute_result"
    }
   ],
   "source": [
    "l"
   ]
  },
  {
   "cell_type": "markdown",
   "id": "70ddc9d3",
   "metadata": {},
   "source": [
    "List is mutable which means we can change after it is defined"
   ]
  },
  {
   "cell_type": "code",
   "execution_count": 35,
   "id": "3ffe67c4",
   "metadata": {},
   "outputs": [
    {
     "data": {
      "text/plain": [
       "[2000, 10]"
      ]
     },
     "execution_count": 35,
     "metadata": {},
     "output_type": "execute_result"
    }
   ],
   "source": [
    "l[1:-1]"
   ]
  },
  {
   "cell_type": "markdown",
   "id": "8c65abed",
   "metadata": {},
   "source": [
    "Only difference in list and tuple is list is mutuable and tuple is immutable and it is denoted in ( ). All the other operations are same."
   ]
  },
  {
   "cell_type": "code",
   "execution_count": 36,
   "id": "9e24d92d",
   "metadata": {},
   "outputs": [],
   "source": [
    "t = (10,20,'Apple')"
   ]
  },
  {
   "cell_type": "code",
   "execution_count": 38,
   "id": "432a1d78",
   "metadata": {},
   "outputs": [
    {
     "ename": "AttributeError",
     "evalue": "'tuple' object has no attribute 'append'",
     "output_type": "error",
     "traceback": [
      "\u001b[0;31m---------------------------------------------------------------------------\u001b[0m",
      "\u001b[0;31mAttributeError\u001b[0m                            Traceback (most recent call last)",
      "Input \u001b[0;32mIn [38]\u001b[0m, in \u001b[0;36m<cell line: 1>\u001b[0;34m()\u001b[0m\n\u001b[0;32m----> 1\u001b[0m \u001b[43mt\u001b[49m\u001b[38;5;241;43m.\u001b[39;49m\u001b[43mappend\u001b[49m(\u001b[38;5;241m50\u001b[39m)\n",
      "\u001b[0;31mAttributeError\u001b[0m: 'tuple' object has no attribute 'append'"
     ]
    }
   ],
   "source": [
    "t.append(50)"
   ]
  },
  {
   "cell_type": "markdown",
   "id": "ce1f956b",
   "metadata": {},
   "source": [
    "t.append and t.add, t.remove will give error because we cannot change because it is immutale"
   ]
  },
  {
   "cell_type": "markdown",
   "id": "bb167de8",
   "metadata": {},
   "source": [
    "indexicing is also not allowed"
   ]
  },
  {
   "cell_type": "code",
   "execution_count": 40,
   "id": "6172fd7b",
   "metadata": {},
   "outputs": [],
   "source": [
    "t = (2,3,[20,30],5)"
   ]
  },
  {
   "cell_type": "code",
   "execution_count": 41,
   "id": "dca54e89",
   "metadata": {},
   "outputs": [
    {
     "data": {
      "text/plain": [
       "(2, 3, [20, 30], 5)"
      ]
     },
     "execution_count": 41,
     "metadata": {},
     "output_type": "execute_result"
    }
   ],
   "source": [
    "t"
   ]
  },
  {
   "cell_type": "code",
   "execution_count": 43,
   "id": "d247b285",
   "metadata": {},
   "outputs": [
    {
     "data": {
      "text/plain": [
       "('blue', 'green', 'red')"
      ]
     },
     "execution_count": 43,
     "metadata": {},
     "output_type": "execute_result"
    }
   ],
   "source": [
    "colors = \"red\",\"green\",\"blue\"\n",
    "rev = colors[::-1]\n",
    "rev"
   ]
  },
  {
   "cell_type": "code",
   "execution_count": 44,
   "id": "fbbe6a71",
   "metadata": {},
   "outputs": [
    {
     "data": {
      "text/plain": [
       "('blue', 'red')"
      ]
     },
     "execution_count": 44,
     "metadata": {},
     "output_type": "execute_result"
    }
   ],
   "source": [
    "colors = \"red\",\"green\",\"blue\"\n",
    "rev = colors[::-2]# step is 2 to return alternate\n",
    "rev"
   ]
  },
  {
   "cell_type": "code",
   "execution_count": 45,
   "id": "42809065",
   "metadata": {},
   "outputs": [
    {
     "data": {
      "text/plain": [
       "range(0, 30)"
      ]
     },
     "execution_count": 45,
     "metadata": {},
     "output_type": "execute_result"
    }
   ],
   "source": [
    "r = range(30)\n",
    "r"
   ]
  },
  {
   "cell_type": "markdown",
   "id": "2777f636",
   "metadata": {},
   "source": [
    "We canot declare float arguments"
   ]
  },
  {
   "cell_type": "code",
   "execution_count": 46,
   "id": "217ad1fe",
   "metadata": {},
   "outputs": [
    {
     "name": "stdout",
     "output_type": "stream",
     "text": [
      "0\n",
      "1\n",
      "2\n",
      "3\n",
      "4\n",
      "5\n",
      "6\n",
      "7\n",
      "8\n",
      "9\n",
      "10\n",
      "11\n",
      "12\n",
      "13\n",
      "14\n",
      "15\n",
      "16\n",
      "17\n",
      "18\n",
      "19\n",
      "20\n",
      "21\n",
      "22\n",
      "23\n",
      "24\n",
      "25\n",
      "26\n",
      "27\n",
      "28\n",
      "29\n"
     ]
    }
   ],
   "source": [
    "for i in r:\n",
    "    print(i)"
   ]
  },
  {
   "cell_type": "code",
   "execution_count": 47,
   "id": "ae6527b8",
   "metadata": {},
   "outputs": [
    {
     "data": {
      "text/plain": [
       "5"
      ]
     },
     "execution_count": 47,
     "metadata": {},
     "output_type": "execute_result"
    }
   ],
   "source": [
    "r[5]"
   ]
  },
  {
   "cell_type": "code",
   "execution_count": 48,
   "id": "3707663d",
   "metadata": {},
   "outputs": [
    {
     "data": {
      "text/plain": [
       "range(0, 3)"
      ]
     },
     "execution_count": 48,
     "metadata": {},
     "output_type": "execute_result"
    }
   ],
   "source": [
    "r[0:3]"
   ]
  },
  {
   "cell_type": "code",
   "execution_count": 49,
   "id": "c16abb16",
   "metadata": {},
   "outputs": [
    {
     "data": {
      "text/plain": [
       "range(10, 50)"
      ]
     },
     "execution_count": 49,
     "metadata": {},
     "output_type": "execute_result"
    }
   ],
   "source": [
    "range(10,50) # will give range from 10 to 50"
   ]
  },
  {
   "cell_type": "code",
   "execution_count": 51,
   "id": "db54695a",
   "metadata": {},
   "outputs": [
    {
     "name": "stdout",
     "output_type": "stream",
     "text": [
      "range(10, 50, 5)\n"
     ]
    }
   ],
   "source": [
    "range(10,50,5) # will give 10 to 50 with increment of 5"
   ]
  },
  {
   "cell_type": "markdown",
   "id": "b11a0c9e",
   "metadata": {},
   "source": [
    "Range takes 3 arguments maximum, start, end, and step "
   ]
  },
  {
   "cell_type": "code",
   "execution_count": 52,
   "id": "03f123a9",
   "metadata": {},
   "outputs": [
    {
     "name": "stdout",
     "output_type": "stream",
     "text": [
      "10\n",
      "15\n",
      "20\n",
      "25\n",
      "30\n",
      "35\n",
      "40\n",
      "45\n"
     ]
    }
   ],
   "source": [
    "for i in range(10,50,5):\n",
    "    print(i)"
   ]
  },
  {
   "cell_type": "markdown",
   "id": "97d12149",
   "metadata": {},
   "source": [
    "Set is denoted in {} and it doesnot allow duplicate values and it is unordered so no indexing allowed and it is mutable"
   ]
  },
  {
   "cell_type": "code",
   "execution_count": 53,
   "id": "a3db614c",
   "metadata": {},
   "outputs": [],
   "source": [
    "s = {1,2,3,'neth'}"
   ]
  },
  {
   "cell_type": "code",
   "execution_count": 54,
   "id": "a9c791ef",
   "metadata": {},
   "outputs": [],
   "source": [
    "s.add(4)"
   ]
  },
  {
   "cell_type": "code",
   "execution_count": 55,
   "id": "7d095349",
   "metadata": {},
   "outputs": [
    {
     "data": {
      "text/plain": [
       "{1, 2, 3, 4, 'neth'}"
      ]
     },
     "execution_count": 55,
     "metadata": {},
     "output_type": "execute_result"
    }
   ],
   "source": [
    "s"
   ]
  },
  {
   "cell_type": "markdown",
   "id": "06b7eba7",
   "metadata": {},
   "source": [
    "set doesnot allow slicing"
   ]
  },
  {
   "cell_type": "markdown",
   "id": "51e0ac5f",
   "metadata": {},
   "source": [
    "we can add and remove in set. "
   ]
  },
  {
   "cell_type": "markdown",
   "id": "cbb3d259",
   "metadata": {},
   "source": [
    "to add in list we use append and in set we use add, if we use append in set will give error"
   ]
  },
  {
   "cell_type": "markdown",
   "id": "afe2cad4",
   "metadata": {},
   "source": [
    "Frozenset set is same as set but it is immutable"
   ]
  },
  {
   "cell_type": "code",
   "execution_count": 56,
   "id": "3d5581c6",
   "metadata": {},
   "outputs": [],
   "source": [
    "s2= frozenset(s)"
   ]
  },
  {
   "cell_type": "code",
   "execution_count": 57,
   "id": "f64440ab",
   "metadata": {},
   "outputs": [
    {
     "data": {
      "text/plain": [
       "frozenset({1, 2, 3, 4, 'neth'})"
      ]
     },
     "execution_count": 57,
     "metadata": {},
     "output_type": "execute_result"
    }
   ],
   "source": [
    "s2"
   ]
  },
  {
   "cell_type": "code",
   "execution_count": 59,
   "id": "502be9d3",
   "metadata": {},
   "outputs": [
    {
     "ename": "AttributeError",
     "evalue": "'frozenset' object has no attribute 'add'",
     "output_type": "error",
     "traceback": [
      "\u001b[0;31m---------------------------------------------------------------------------\u001b[0m",
      "\u001b[0;31mAttributeError\u001b[0m                            Traceback (most recent call last)",
      "Input \u001b[0;32mIn [59]\u001b[0m, in \u001b[0;36m<cell line: 1>\u001b[0;34m()\u001b[0m\n\u001b[0;32m----> 1\u001b[0m \u001b[43ms2\u001b[49m\u001b[38;5;241;43m.\u001b[39;49m\u001b[43madd\u001b[49m(\u001b[38;5;241m10\u001b[39m)\n",
      "\u001b[0;31mAttributeError\u001b[0m: 'frozenset' object has no attribute 'add'"
     ]
    }
   ],
   "source": [
    "s2.add(10)"
   ]
  },
  {
   "cell_type": "code",
   "execution_count": 60,
   "id": "30069207",
   "metadata": {},
   "outputs": [],
   "source": [
    "s = set()"
   ]
  },
  {
   "cell_type": "code",
   "execution_count": 61,
   "id": "328207a1",
   "metadata": {},
   "outputs": [
    {
     "data": {
      "text/plain": [
       "set"
      ]
     },
     "execution_count": 61,
     "metadata": {},
     "output_type": "execute_result"
    }
   ],
   "source": [
    "type(s)"
   ]
  },
  {
   "cell_type": "markdown",
   "id": "9ff502db",
   "metadata": {},
   "source": [
    "to denote an empty set # variable = set()"
   ]
  },
  {
   "cell_type": "markdown",
   "id": "bbacc0be",
   "metadata": {},
   "source": [
    "So we cannot add or remove in frozen set"
   ]
  },
  {
   "cell_type": "markdown",
   "id": "909625ef",
   "metadata": {},
   "source": [
    "Dictionary"
   ]
  },
  {
   "cell_type": "markdown",
   "id": "5f0e3553",
   "metadata": {},
   "source": [
    "Dictionary Have keys and values.Keys are unique and values can be duplicate values. Dictionary is also denoted by {}"
   ]
  },
  {
   "cell_type": "code",
   "execution_count": 62,
   "id": "13207576",
   "metadata": {},
   "outputs": [],
   "source": [
    "d1 = {100:200,101:'Neth',102:'DS'}"
   ]
  },
  {
   "cell_type": "code",
   "execution_count": 63,
   "id": "7b4f86d5",
   "metadata": {},
   "outputs": [
    {
     "data": {
      "text/plain": [
       "{100: 200, 101: 'Neth', 102: 'DS'}"
      ]
     },
     "execution_count": 63,
     "metadata": {},
     "output_type": "execute_result"
    }
   ],
   "source": [
    "d1"
   ]
  },
  {
   "cell_type": "markdown",
   "id": "a389144f",
   "metadata": {},
   "source": [
    "Arithemetic operators"
   ]
  },
  {
   "cell_type": "code",
   "execution_count": 64,
   "id": "0e553f0e",
   "metadata": {},
   "outputs": [],
   "source": [
    "a = 10\n",
    "b = 5"
   ]
  },
  {
   "cell_type": "code",
   "execution_count": 65,
   "id": "bc4b2507",
   "metadata": {},
   "outputs": [
    {
     "data": {
      "text/plain": [
       "15"
      ]
     },
     "execution_count": 65,
     "metadata": {},
     "output_type": "execute_result"
    }
   ],
   "source": [
    "c = a+b\n",
    "c"
   ]
  },
  {
   "cell_type": "code",
   "execution_count": 66,
   "id": "65839043",
   "metadata": {},
   "outputs": [],
   "source": [
    "f=a*b"
   ]
  },
  {
   "cell_type": "code",
   "execution_count": 67,
   "id": "f22e8fb1",
   "metadata": {},
   "outputs": [
    {
     "data": {
      "text/plain": [
       "50"
      ]
     },
     "execution_count": 67,
     "metadata": {},
     "output_type": "execute_result"
    }
   ],
   "source": [
    "f"
   ]
  },
  {
   "cell_type": "code",
   "execution_count": 68,
   "id": "f3049e5e",
   "metadata": {},
   "outputs": [],
   "source": [
    "import math"
   ]
  },
  {
   "cell_type": "code",
   "execution_count": 69,
   "id": "07616dac",
   "metadata": {},
   "outputs": [
    {
     "data": {
      "text/plain": [
       "5.0"
      ]
     },
     "execution_count": 69,
     "metadata": {},
     "output_type": "execute_result"
    }
   ],
   "source": [
    "math.sqrt(25)"
   ]
  },
  {
   "cell_type": "code",
   "execution_count": 70,
   "id": "583fd166",
   "metadata": {},
   "outputs": [
    {
     "data": {
      "text/plain": [
       "3.1622776601683795"
      ]
     },
     "execution_count": 70,
     "metadata": {},
     "output_type": "execute_result"
    }
   ],
   "source": [
    "a = 10\n",
    "math.sqrt(a)"
   ]
  },
  {
   "cell_type": "code",
   "execution_count": 71,
   "id": "df0730b4",
   "metadata": {},
   "outputs": [
    {
     "data": {
      "text/plain": [
       "3"
      ]
     },
     "execution_count": 71,
     "metadata": {},
     "output_type": "execute_result"
    }
   ],
   "source": [
    "round(math.sqrt(a))"
   ]
  },
  {
   "cell_type": "code",
   "execution_count": 72,
   "id": "b18f655a",
   "metadata": {},
   "outputs": [
    {
     "data": {
      "text/plain": [
       "'NethraData'"
      ]
     },
     "execution_count": 72,
     "metadata": {},
     "output_type": "execute_result"
    }
   ],
   "source": [
    "hi = \"Nethra\"\n",
    "Name = \"Data\"\n",
    "hi + Name"
   ]
  },
  {
   "cell_type": "code",
   "execution_count": 73,
   "id": "20db622b",
   "metadata": {},
   "outputs": [
    {
     "data": {
      "text/plain": [
       "True"
      ]
     },
     "execution_count": 73,
     "metadata": {},
     "output_type": "execute_result"
    }
   ],
   "source": [
    "4 < 5"
   ]
  },
  {
   "cell_type": "code",
   "execution_count": 74,
   "id": "6fb07ca1",
   "metadata": {},
   "outputs": [],
   "source": [
    "mylist = [10,20,30,40,1000]"
   ]
  },
  {
   "cell_type": "code",
   "execution_count": 75,
   "id": "8593e6e7",
   "metadata": {},
   "outputs": [
    {
     "name": "stdout",
     "output_type": "stream",
     "text": [
      "jj is equal to: 10\n",
      "jj is equal to: 20\n",
      "jj is equal to: 30\n",
      "jj is equal to: 40\n",
      "jj is equal to: 1000\n"
     ]
    }
   ],
   "source": [
    "for j in mylist:\n",
    "    print('jj is equal to:',j)"
   ]
  },
  {
   "cell_type": "code",
   "execution_count": 76,
   "id": "bc2ccb08",
   "metadata": {},
   "outputs": [
    {
     "data": {
      "text/plain": [
       "range(0, 5)"
      ]
     },
     "execution_count": 76,
     "metadata": {},
     "output_type": "execute_result"
    }
   ],
   "source": [
    "range(5)"
   ]
  },
  {
   "cell_type": "code",
   "execution_count": 77,
   "id": "89695a91",
   "metadata": {},
   "outputs": [
    {
     "data": {
      "text/plain": [
       "[0, 1, 2, 3, 4]"
      ]
     },
     "execution_count": 77,
     "metadata": {},
     "output_type": "execute_result"
    }
   ],
   "source": [
    "list(range(5))"
   ]
  },
  {
   "cell_type": "code",
   "execution_count": 78,
   "id": "95a54497",
   "metadata": {},
   "outputs": [
    {
     "data": {
      "text/plain": [
       "[5, 10, 15, 20, 25, 30, 35, 40, 45]"
      ]
     },
     "execution_count": 78,
     "metadata": {},
     "output_type": "execute_result"
    }
   ],
   "source": [
    "list(range(5,50,5))"
   ]
  },
  {
   "cell_type": "code",
   "execution_count": 79,
   "id": "9d4b2aea",
   "metadata": {},
   "outputs": [
    {
     "data": {
      "text/plain": [
       "[1, 3, 5, 7, 9]"
      ]
     },
     "execution_count": 79,
     "metadata": {},
     "output_type": "execute_result"
    }
   ],
   "source": [
    "list(range(1,10,2))"
   ]
  },
  {
   "cell_type": "markdown",
   "id": "e094e478",
   "metadata": {},
   "source": [
    "If Statement"
   ]
  },
  {
   "cell_type": "markdown",
   "id": "776ddbf3",
   "metadata": {},
   "source": [
    "Numpy is a package used for scientific computation, matrix, array\n"
   ]
  },
  {
   "cell_type": "code",
   "execution_count": 81,
   "id": "24bcdfb0",
   "metadata": {},
   "outputs": [],
   "source": [
    "import numpy as np\n",
    "from numpy.random import randn"
   ]
  },
  {
   "cell_type": "markdown",
   "id": "3ac88062",
   "metadata": {},
   "source": [
    "numpy.random -> generate a random number from numpy package"
   ]
  },
  {
   "cell_type": "markdown",
   "id": "5c8faf0e",
   "metadata": {},
   "source": [
    "numpy is a package, random is a module and randn is a function."
   ]
  },
  {
   "cell_type": "code",
   "execution_count": 84,
   "id": "075811ed",
   "metadata": {},
   "outputs": [],
   "source": [
    "x = randn()"
   ]
  },
  {
   "cell_type": "code",
   "execution_count": 85,
   "id": "37143859",
   "metadata": {},
   "outputs": [
    {
     "data": {
      "text/plain": [
       "0.2683065340008037"
      ]
     },
     "execution_count": 85,
     "metadata": {},
     "output_type": "execute_result"
    }
   ],
   "source": [
    "x"
   ]
  },
  {
   "cell_type": "code",
   "execution_count": null,
   "id": "03e63b4d",
   "metadata": {},
   "outputs": [],
   "source": [
    "if x > 1:\n",
    "    print(\"Greater than 1\")\n",
    "else:\n",
    "    print(\"Less than 1\")"
   ]
  },
  {
   "cell_type": "code",
   "execution_count": 86,
   "id": "6b68ddbb",
   "metadata": {},
   "outputs": [
    {
     "data": {
      "text/plain": [
       "2"
      ]
     },
     "execution_count": 86,
     "metadata": {},
     "output_type": "execute_result"
    }
   ],
   "source": [
    "fruits = ['Orange','Apple','Pears','Kiwi','Apple','Banana']\n",
    "fruits.count('Apple')"
   ]
  },
  {
   "cell_type": "code",
   "execution_count": 88,
   "id": "32240b8f",
   "metadata": {},
   "outputs": [
    {
     "data": {
      "text/plain": [
       "0"
      ]
     },
     "execution_count": 88,
     "metadata": {},
     "output_type": "execute_result"
    }
   ],
   "source": [
    "fruits.count('apple') #Python is case sensitive"
   ]
  },
  {
   "cell_type": "code",
   "execution_count": null,
   "id": "cdd76fd7",
   "metadata": {},
   "outputs": [],
   "source": []
  }
 ],
 "metadata": {
  "kernelspec": {
   "display_name": "Python 3 (ipykernel)",
   "language": "python",
   "name": "python3"
  },
  "language_info": {
   "codemirror_mode": {
    "name": "ipython",
    "version": 3
   },
   "file_extension": ".py",
   "mimetype": "text/x-python",
   "name": "python",
   "nbconvert_exporter": "python",
   "pygments_lexer": "ipython3",
   "version": "3.9.12"
  }
 },
 "nbformat": 4,
 "nbformat_minor": 5
}
