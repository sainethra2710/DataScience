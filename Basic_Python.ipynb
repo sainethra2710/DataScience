{
 "cells": [
  {
   "cell_type": "markdown",
   "id": "b829fa9a",
   "metadata": {},
   "source": [
    "# Python Introduction "
   ]
  },
  {
   "cell_type": "code",
   "execution_count": 44,
   "id": "f7e37424",
   "metadata": {},
   "outputs": [
    {
     "data": {
      "text/plain": [
       "float"
      ]
     },
     "execution_count": 44,
     "metadata": {},
     "output_type": "execute_result"
    }
   ],
   "source": [
    "a = 5.8\n",
    "a\n",
    "type(a)"
   ]
  },
  {
   "cell_type": "code",
   "execution_count": 45,
   "id": "8a5b657b",
   "metadata": {},
   "outputs": [
    {
     "data": {
      "text/plain": [
       "float"
      ]
     },
     "execution_count": 45,
     "metadata": {},
     "output_type": "execute_result"
    }
   ],
   "source": [
    "type(a)\n"
   ]
  },
  {
   "cell_type": "code",
   "execution_count": 46,
   "id": "1aa833f7",
   "metadata": {},
   "outputs": [],
   "source": [
    "x=6"
   ]
  },
  {
   "cell_type": "code",
   "execution_count": 47,
   "id": "b6ec2fee",
   "metadata": {},
   "outputs": [],
   "source": [
    "name = \"String\""
   ]
  },
  {
   "cell_type": "code",
   "execution_count": 48,
   "id": "2db3edce",
   "metadata": {},
   "outputs": [
    {
     "data": {
      "text/plain": [
       "str"
      ]
     },
     "execution_count": 48,
     "metadata": {},
     "output_type": "execute_result"
    }
   ],
   "source": [
    "type(name)"
   ]
  },
  {
   "cell_type": "code",
   "execution_count": 49,
   "id": "1d99e7f4",
   "metadata": {},
   "outputs": [
    {
     "data": {
      "text/plain": [
       "6"
      ]
     },
     "execution_count": 49,
     "metadata": {},
     "output_type": "execute_result"
    }
   ],
   "source": [
    "len(name)"
   ]
  },
  {
   "cell_type": "markdown",
   "id": "3de8a955",
   "metadata": {},
   "source": [
    "Python uses index method to access anything "
   ]
  },
  {
   "cell_type": "markdown",
   "id": "b07e8fb7",
   "metadata": {},
   "source": [
    "The index in python always start from 0 from forward and -1 from the backward"
   ]
  },
  {
   "cell_type": "code",
   "execution_count": 50,
   "id": "389f0bef",
   "metadata": {},
   "outputs": [],
   "source": [
    "city = 'I like Hyderabad'"
   ]
  },
  {
   "cell_type": "code",
   "execution_count": 51,
   "id": "564fe348",
   "metadata": {},
   "outputs": [
    {
     "data": {
      "text/plain": [
       "16"
      ]
     },
     "execution_count": 51,
     "metadata": {},
     "output_type": "execute_result"
    }
   ],
   "source": [
    "len(city)"
   ]
  },
  {
   "cell_type": "markdown",
   "id": "26581f78",
   "metadata": {},
   "source": [
    "Index"
   ]
  },
  {
   "cell_type": "code",
   "execution_count": 52,
   "id": "a84d3914",
   "metadata": {},
   "outputs": [
    {
     "data": {
      "text/plain": [
       "'d'"
      ]
     },
     "execution_count": 52,
     "metadata": {},
     "output_type": "execute_result"
    }
   ],
   "source": [
    "city[-1]"
   ]
  },
  {
   "cell_type": "code",
   "execution_count": 53,
   "id": "8886d1a9",
   "metadata": {},
   "outputs": [
    {
     "data": {
      "text/plain": [
       "'lik'"
      ]
     },
     "execution_count": 53,
     "metadata": {},
     "output_type": "execute_result"
    }
   ],
   "source": [
    "city[2:5]"
   ]
  },
  {
   "cell_type": "code",
   "execution_count": 54,
   "id": "db58cfe5",
   "metadata": {},
   "outputs": [
    {
     "data": {
      "text/plain": [
       "'lk y'"
      ]
     },
     "execution_count": 54,
     "metadata": {},
     "output_type": "execute_result"
    }
   ],
   "source": [
    "city[2:10:2]"
   ]
  },
  {
   "cell_type": "code",
   "execution_count": 55,
   "id": "1b49d09f",
   "metadata": {},
   "outputs": [
    {
     "data": {
      "text/plain": [
       "'dabaredyH ekil I'"
      ]
     },
     "execution_count": 55,
     "metadata": {},
     "output_type": "execute_result"
    }
   ],
   "source": [
    "city[::-1] #To reverse a string"
   ]
  },
  {
   "cell_type": "code",
   "execution_count": 56,
   "id": "f298bc58",
   "metadata": {},
   "outputs": [],
   "source": [
    "city2 = \" Bangalore\""
   ]
  },
  {
   "cell_type": "code",
   "execution_count": 57,
   "id": "12f9f0a4",
   "metadata": {},
   "outputs": [
    {
     "data": {
      "text/plain": [
       "'I like Hyderabad Bangalore'"
      ]
     },
     "execution_count": 57,
     "metadata": {},
     "output_type": "execute_result"
    }
   ],
   "source": [
    "city+city2"
   ]
  },
  {
   "cell_type": "code",
   "execution_count": 58,
   "id": "00dca1a6",
   "metadata": {},
   "outputs": [
    {
     "data": {
      "text/plain": [
       "'I like Hyderabad I am loving my stay'"
      ]
     },
     "execution_count": 58,
     "metadata": {},
     "output_type": "execute_result"
    }
   ],
   "source": [
    "city + \" I am loving my stay\""
   ]
  },
  {
   "cell_type": "markdown",
   "id": "60464b78",
   "metadata": {},
   "source": [
    "We can only concat two strings and cannot concat string and an integer"
   ]
  },
  {
   "cell_type": "code",
   "execution_count": 59,
   "id": "94a4c38f",
   "metadata": {},
   "outputs": [
    {
     "data": {
      "text/plain": [
       "'I like hyderabad'"
      ]
     },
     "execution_count": 59,
     "metadata": {},
     "output_type": "execute_result"
    }
   ],
   "source": [
    "city.capitalize() #capatilize will capatilize the first letter"
   ]
  },
  {
   "cell_type": "code",
   "execution_count": 60,
   "id": "8d4dec0d",
   "metadata": {},
   "outputs": [
    {
     "data": {
      "text/plain": [
       "'I LIKE HYDERABAD'"
      ]
     },
     "execution_count": 60,
     "metadata": {},
     "output_type": "execute_result"
    }
   ],
   "source": [
    "city.upper() # Will make everything to uppercase"
   ]
  },
  {
   "cell_type": "code",
   "execution_count": 61,
   "id": "4bf4ee43",
   "metadata": {},
   "outputs": [
    {
     "data": {
      "text/plain": [
       "'i like hyderabad'"
      ]
     },
     "execution_count": 61,
     "metadata": {},
     "output_type": "execute_result"
    }
   ],
   "source": [
    "city.lower() # Will make everything to lowercase"
   ]
  },
  {
   "cell_type": "code",
   "execution_count": 62,
   "id": "0ddf43f1",
   "metadata": {},
   "outputs": [
    {
     "data": {
      "text/plain": [
       "'3.9.12 (main, Apr  5 2022, 01:53:17) \\n[Clang 12.0.0 ]'"
      ]
     },
     "execution_count": 62,
     "metadata": {},
     "output_type": "execute_result"
    }
   ],
   "source": [
    "import sys\n",
    "sys.version"
   ]
  },
  {
   "cell_type": "code",
   "execution_count": 63,
   "id": "da6148bc",
   "metadata": {},
   "outputs": [
    {
     "data": {
      "text/plain": [
       "['False',\n",
       " 'None',\n",
       " 'True',\n",
       " '__peg_parser__',\n",
       " 'and',\n",
       " 'as',\n",
       " 'assert',\n",
       " 'async',\n",
       " 'await',\n",
       " 'break',\n",
       " 'class',\n",
       " 'continue',\n",
       " 'def',\n",
       " 'del',\n",
       " 'elif',\n",
       " 'else',\n",
       " 'except',\n",
       " 'finally',\n",
       " 'for',\n",
       " 'from',\n",
       " 'global',\n",
       " 'if',\n",
       " 'import',\n",
       " 'in',\n",
       " 'is',\n",
       " 'lambda',\n",
       " 'nonlocal',\n",
       " 'not',\n",
       " 'or',\n",
       " 'pass',\n",
       " 'raise',\n",
       " 'return',\n",
       " 'try',\n",
       " 'while',\n",
       " 'with',\n",
       " 'yield']"
      ]
     },
     "execution_count": 63,
     "metadata": {},
     "output_type": "execute_result"
    }
   ],
   "source": [
    "import keyword\n",
    "keyword.kwlist"
   ]
  },
  {
   "cell_type": "code",
   "execution_count": 64,
   "id": "3a831384",
   "metadata": {},
   "outputs": [
    {
     "name": "stdout",
     "output_type": "stream",
     "text": [
      "10.81\n"
     ]
    },
    {
     "data": {
      "text/plain": [
       "float"
      ]
     },
     "execution_count": 64,
     "metadata": {},
     "output_type": "execute_result"
    }
   ],
   "source": [
    "x = 10.81\n",
    "print(x)\n",
    "type(x)"
   ]
  },
  {
   "cell_type": "markdown",
   "id": "2b5032ad",
   "metadata": {},
   "source": [
    "complex number = x+yi ,  i=sqrt(-1)"
   ]
  },
  {
   "cell_type": "markdown",
   "id": "beff7b78",
   "metadata": {},
   "source": [
    "# Arthmetic operations"
   ]
  },
  {
   "cell_type": "code",
   "execution_count": 65,
   "id": "8124c7d4",
   "metadata": {},
   "outputs": [
    {
     "data": {
      "text/plain": [
       "21"
      ]
     },
     "execution_count": 65,
     "metadata": {},
     "output_type": "execute_result"
    }
   ],
   "source": [
    "x,y,z = 10,11,12\n",
    "x+y"
   ]
  },
  {
   "cell_type": "code",
   "execution_count": 66,
   "id": "a64a18cf",
   "metadata": {},
   "outputs": [
    {
     "name": "stdout",
     "output_type": "stream",
     "text": [
      "-1\n",
      "110\n",
      "0.9090909090909091\n",
      "10\n"
     ]
    }
   ],
   "source": [
    "print(x-y)\n",
    "print(x*y)\n",
    "print(x/y) #division\n",
    "print(x%y) #modulus\n",
    "\n"
   ]
  },
  {
   "cell_type": "markdown",
   "id": "ba0c45d9",
   "metadata": {},
   "source": [
    "strings are combination of characters of variable length"
   ]
  },
  {
   "cell_type": "markdown",
   "id": "1e1c2053",
   "metadata": {},
   "source": [
    "len() cannot be used forint"
   ]
  },
  {
   "cell_type": "code",
   "execution_count": 69,
   "id": "1bfd8d71",
   "metadata": {},
   "outputs": [
    {
     "name": "stdout",
     "output_type": "stream",
     "text": [
      "aaaaa\n"
     ]
    }
   ],
   "source": [
    "x = 'a'\n",
    "print(x*5) # It will print 5 times"
   ]
  },
  {
   "cell_type": "markdown",
   "id": "43a715ed",
   "metadata": {},
   "source": [
    "# List"
   ]
  },
  {
   "cell_type": "markdown",
   "id": "031cd85b",
   "metadata": {},
   "source": [
    "Lists contains hetreogeneous data types, so it can consider combination of data types. List is mutable , follows index, allows duplicate values. List is denoted in []"
   ]
  },
  {
   "cell_type": "code",
   "execution_count": 70,
   "id": "51dc2940",
   "metadata": {},
   "outputs": [],
   "source": [
    "list1 = [1,2,3,4,5]"
   ]
  },
  {
   "cell_type": "code",
   "execution_count": 71,
   "id": "89dba517",
   "metadata": {},
   "outputs": [
    {
     "data": {
      "text/plain": [
       "list"
      ]
     },
     "execution_count": 71,
     "metadata": {},
     "output_type": "execute_result"
    }
   ],
   "source": [
    "type(list1)"
   ]
  },
  {
   "cell_type": "code",
   "execution_count": 72,
   "id": "3f84389b",
   "metadata": {},
   "outputs": [],
   "source": [
    "#to add into a list\n",
    "list1.append(6)"
   ]
  },
  {
   "cell_type": "code",
   "execution_count": 73,
   "id": "38c6e9ed",
   "metadata": {},
   "outputs": [
    {
     "data": {
      "text/plain": [
       "[1, 2, 3, 4, 5, 6]"
      ]
     },
     "execution_count": 73,
     "metadata": {},
     "output_type": "execute_result"
    }
   ],
   "source": [
    "list1"
   ]
  },
  {
   "cell_type": "code",
   "execution_count": 76,
   "id": "39d7a7a6",
   "metadata": {},
   "outputs": [
    {
     "data": {
      "text/plain": [
       "[1, 2, 3, 8, 8, 4, 5, 6]"
      ]
     },
     "execution_count": 76,
     "metadata": {},
     "output_type": "execute_result"
    }
   ],
   "source": [
    "list1.insert(3,8) # will insert 8 at index 3\n",
    "list1"
   ]
  },
  {
   "cell_type": "code",
   "execution_count": 77,
   "id": "90c92931",
   "metadata": {},
   "outputs": [
    {
     "data": {
      "text/plain": [
       "8"
      ]
     },
     "execution_count": 77,
     "metadata": {},
     "output_type": "execute_result"
    }
   ],
   "source": [
    "list1.pop(3) # will remove thge element at index 3"
   ]
  },
  {
   "cell_type": "markdown",
   "id": "2722dd24",
   "metadata": {},
   "source": [
    "#Linked List -> List inside a list"
   ]
  },
  {
   "cell_type": "code",
   "execution_count": 78,
   "id": "fcd1ad15",
   "metadata": {},
   "outputs": [],
   "source": [
    "list4 = [1,2,3,[4,5,6]]"
   ]
  },
  {
   "cell_type": "code",
   "execution_count": 79,
   "id": "bae7d57a",
   "metadata": {},
   "outputs": [
    {
     "data": {
      "text/plain": [
       "[1, 2, 3, [4, 5, 6]]"
      ]
     },
     "execution_count": 79,
     "metadata": {},
     "output_type": "execute_result"
    }
   ],
   "source": [
    "list4"
   ]
  },
  {
   "cell_type": "code",
   "execution_count": 80,
   "id": "7eefa366",
   "metadata": {},
   "outputs": [
    {
     "data": {
      "text/plain": [
       "[4, 5, 6]"
      ]
     },
     "execution_count": 80,
     "metadata": {},
     "output_type": "execute_result"
    }
   ],
   "source": [
    "list4[3]"
   ]
  },
  {
   "cell_type": "code",
   "execution_count": 82,
   "id": "559b39ec",
   "metadata": {},
   "outputs": [
    {
     "data": {
      "text/plain": [
       "5"
      ]
     },
     "execution_count": 82,
     "metadata": {},
     "output_type": "execute_result"
    }
   ],
   "source": [
    "list4[3][1] #To assess the element inside the list."
   ]
  },
  {
   "cell_type": "markdown",
   "id": "1dd7d75e",
   "metadata": {},
   "source": [
    "Append will only take one argument. # list4.append(4,5,6,7) -> will return error because it have 4 arguments "
   ]
  },
  {
   "cell_type": "code",
   "execution_count": 83,
   "id": "1e668b5c",
   "metadata": {},
   "outputs": [],
   "source": [
    "#There are immutable and mutable. If we can change the variable it is called mutuable and we cannot change it is immutable"
   ]
  },
  {
   "cell_type": "code",
   "execution_count": 98,
   "id": "8f29dd78",
   "metadata": {},
   "outputs": [],
   "source": [
    "#create a list [1,2,3,4,[5,6,7]] and add an element 9 after 5"
   ]
  },
  {
   "cell_type": "code",
   "execution_count": 99,
   "id": "8fd6d357",
   "metadata": {},
   "outputs": [],
   "source": [
    "Lis = [1,2,3,4,[5,6,7]]"
   ]
  },
  {
   "cell_type": "code",
   "execution_count": 100,
   "id": "3324492a",
   "metadata": {},
   "outputs": [
    {
     "data": {
      "text/plain": [
       "[5, 6, 7]"
      ]
     },
     "execution_count": 100,
     "metadata": {},
     "output_type": "execute_result"
    }
   ],
   "source": [
    "Lis[4]"
   ]
  },
  {
   "cell_type": "code",
   "execution_count": 101,
   "id": "1ebebfa2",
   "metadata": {},
   "outputs": [],
   "source": [
    "Lis[4].insert(1,9)"
   ]
  },
  {
   "cell_type": "code",
   "execution_count": 102,
   "id": "0e3d9d87",
   "metadata": {},
   "outputs": [
    {
     "data": {
      "text/plain": [
       "[1, 2, 3, 4, [5, 9, 6, 7]]"
      ]
     },
     "execution_count": 102,
     "metadata": {},
     "output_type": "execute_result"
    }
   ],
   "source": [
    "Lis"
   ]
  },
  {
   "cell_type": "markdown",
   "id": "7061831d",
   "metadata": {},
   "source": [
    "# Set"
   ]
  },
  {
   "cell_type": "markdown",
   "id": "bbd48071",
   "metadata": {},
   "source": [
    "Set contains hetreogeneous data types, so it can consider combination of data types. Set is mutable , doesnot follows index, doesnot allows duplicate valueslues. Set is denoted in { }"
   ]
  },
  {
   "cell_type": "code",
   "execution_count": 105,
   "id": "76e5e89b",
   "metadata": {},
   "outputs": [],
   "source": [
    "set1={1,2,3,4}"
   ]
  },
  {
   "cell_type": "code",
   "execution_count": 106,
   "id": "d870997b",
   "metadata": {},
   "outputs": [
    {
     "data": {
      "text/plain": [
       "set"
      ]
     },
     "execution_count": 106,
     "metadata": {},
     "output_type": "execute_result"
    }
   ],
   "source": [
    "type(set1)"
   ]
  },
  {
   "cell_type": "code",
   "execution_count": 107,
   "id": "2706811b",
   "metadata": {},
   "outputs": [
    {
     "data": {
      "text/plain": [
       "4"
      ]
     },
     "execution_count": 107,
     "metadata": {},
     "output_type": "execute_result"
    }
   ],
   "source": [
    "len(set1)"
   ]
  },
  {
   "cell_type": "code",
   "execution_count": 108,
   "id": "d14e70b2",
   "metadata": {},
   "outputs": [],
   "source": [
    "set1={1,2,2,3,4,5}"
   ]
  },
  {
   "cell_type": "code",
   "execution_count": 109,
   "id": "7c9434dc",
   "metadata": {},
   "outputs": [
    {
     "data": {
      "text/plain": [
       "5"
      ]
     },
     "execution_count": 109,
     "metadata": {},
     "output_type": "execute_result"
    }
   ],
   "source": [
    "len(set1)"
   ]
  },
  {
   "cell_type": "code",
   "execution_count": 116,
   "id": "6ab2ee5f",
   "metadata": {},
   "outputs": [],
   "source": [
    "set2 = {2,3,4,5,6}"
   ]
  },
  {
   "cell_type": "code",
   "execution_count": 117,
   "id": "68762d8b",
   "metadata": {},
   "outputs": [
    {
     "data": {
      "text/plain": [
       "{1, 2, 3, 4, 5, 6}"
      ]
     },
     "execution_count": 117,
     "metadata": {},
     "output_type": "execute_result"
    }
   ],
   "source": [
    "set1.union(set2)"
   ]
  },
  {
   "cell_type": "code",
   "execution_count": 118,
   "id": "a7cb94c7",
   "metadata": {},
   "outputs": [
    {
     "data": {
      "text/plain": [
       "{2, 3, 4, 5}"
      ]
     },
     "execution_count": 118,
     "metadata": {},
     "output_type": "execute_result"
    }
   ],
   "source": [
    "set1.intersection(set2)"
   ]
  },
  {
   "cell_type": "code",
   "execution_count": 119,
   "id": "300ff0b0",
   "metadata": {},
   "outputs": [
    {
     "data": {
      "text/plain": [
       "{1}"
      ]
     },
     "execution_count": 119,
     "metadata": {},
     "output_type": "execute_result"
    }
   ],
   "source": [
    "set1-set2"
   ]
  },
  {
   "cell_type": "code",
   "execution_count": 120,
   "id": "723615b6",
   "metadata": {},
   "outputs": [
    {
     "data": {
      "text/plain": [
       "{6}"
      ]
     },
     "execution_count": 120,
     "metadata": {},
     "output_type": "execute_result"
    }
   ],
   "source": [
    "set2-set1"
   ]
  },
  {
   "cell_type": "markdown",
   "id": "9a8b8c0d",
   "metadata": {},
   "source": [
    "set object is not subscriptable so set will reurn an error set[index] ex: set1[0]"
   ]
  },
  {
   "cell_type": "markdown",
   "id": "18f753a6",
   "metadata": {},
   "source": [
    "To add an element to a set insert will not work only add"
   ]
  },
  {
   "cell_type": "code",
   "execution_count": 122,
   "id": "890a1406",
   "metadata": {},
   "outputs": [],
   "source": [
    "set1.add(10)"
   ]
  },
  {
   "cell_type": "code",
   "execution_count": 123,
   "id": "f741852c",
   "metadata": {},
   "outputs": [
    {
     "data": {
      "text/plain": [
       "{1, 2, 3, 4, 5, 10}"
      ]
     },
     "execution_count": 123,
     "metadata": {},
     "output_type": "execute_result"
    }
   ],
   "source": [
    "set1"
   ]
  },
  {
   "cell_type": "markdown",
   "id": "f699dc6c",
   "metadata": {},
   "source": [
    "# Tuple"
   ]
  },
  {
   "cell_type": "markdown",
   "id": "132aa1f1",
   "metadata": {},
   "source": [
    "Tuple contains hetreogeneous data types, so it can consider combination of data types. Tuple is immutable , follows index, allows duplicate values. Tuple is denoted in ()"
   ]
  },
  {
   "cell_type": "code",
   "execution_count": 124,
   "id": "5b0219b2",
   "metadata": {},
   "outputs": [],
   "source": [
    "tup1 = (1,2,3,4,4,5)"
   ]
  },
  {
   "cell_type": "code",
   "execution_count": 125,
   "id": "52c14515",
   "metadata": {},
   "outputs": [
    {
     "data": {
      "text/plain": [
       "tuple"
      ]
     },
     "execution_count": 125,
     "metadata": {},
     "output_type": "execute_result"
    }
   ],
   "source": [
    "type(tup1)"
   ]
  },
  {
   "cell_type": "markdown",
   "id": "751d00a8",
   "metadata": {},
   "source": [
    "We cannot add or insert or remove any element from tuple"
   ]
  },
  {
   "cell_type": "code",
   "execution_count": 126,
   "id": "e222e4c2",
   "metadata": {},
   "outputs": [
    {
     "data": {
      "text/plain": [
       "1"
      ]
     },
     "execution_count": 126,
     "metadata": {},
     "output_type": "execute_result"
    }
   ],
   "source": [
    "tup1[0]"
   ]
  },
  {
   "cell_type": "markdown",
   "id": "ab3cb6e0",
   "metadata": {},
   "source": [
    "indexing is available in tuple"
   ]
  },
  {
   "cell_type": "markdown",
   "id": "0a4d2f15",
   "metadata": {},
   "source": [
    "# If condition"
   ]
  },
  {
   "cell_type": "code",
   "execution_count": 136,
   "id": "517efef5",
   "metadata": {},
   "outputs": [],
   "source": [
    "x = 10\n",
    "y = 12"
   ]
  },
  {
   "cell_type": "code",
   "execution_count": 137,
   "id": "dc5f4d3e",
   "metadata": {},
   "outputs": [
    {
     "name": "stdout",
     "output_type": "stream",
     "text": [
      "x is equal to 17\n"
     ]
    }
   ],
   "source": [
    "if (x == 10):\n",
    "    x = 17\n",
    "    print(\"x is equal to\",x)"
   ]
  },
  {
   "cell_type": "markdown",
   "id": "a87624a1",
   "metadata": {},
   "source": [
    "# If else condition"
   ]
  },
  {
   "cell_type": "code",
   "execution_count": 138,
   "id": "f57e553f",
   "metadata": {},
   "outputs": [],
   "source": [
    "x=12\n",
    "y=13"
   ]
  },
  {
   "cell_type": "code",
   "execution_count": 139,
   "id": "a2fdcd99",
   "metadata": {},
   "outputs": [
    {
     "name": "stdout",
     "output_type": "stream",
     "text": [
      "x is equal to 19\n"
     ]
    }
   ],
   "source": [
    "if (x == 10):\n",
    "    x = 17\n",
    "    print(\"x is equal to\",x)\n",
    "else:\n",
    "    x = 19\n",
    "    print(\"x is equal to\",x)"
   ]
  },
  {
   "cell_type": "markdown",
   "id": "f37717ed",
   "metadata": {},
   "source": [
    "# If elif else"
   ]
  },
  {
   "cell_type": "code",
   "execution_count": 143,
   "id": "62b30d62",
   "metadata": {},
   "outputs": [],
   "source": [
    "x=12\n",
    "y=13"
   ]
  },
  {
   "cell_type": "code",
   "execution_count": 141,
   "id": "5803f18d",
   "metadata": {},
   "outputs": [
    {
     "name": "stdout",
     "output_type": "stream",
     "text": [
      "x is equal to 19\n"
     ]
    }
   ],
   "source": [
    "if (x == 10):\n",
    "    x = 17\n",
    "    print(\"x is equal to\",x)\n",
    "elif (x == 12):\n",
    "    x = 19\n",
    "    print(\"x is equal to\",x)\n",
    "else:\n",
    "    x = 21\n",
    "    print(\"x is equal to\",x) "
   ]
  },
  {
   "cell_type": "code",
   "execution_count": 153,
   "id": "5b5ca443",
   "metadata": {},
   "outputs": [],
   "source": [
    "x = 10"
   ]
  },
  {
   "cell_type": "code",
   "execution_count": 154,
   "id": "d4e4a270",
   "metadata": {},
   "outputs": [
    {
     "name": "stdout",
     "output_type": "stream",
     "text": [
      "x = 17\n",
      "x is odd 17\n"
     ]
    }
   ],
   "source": [
    "if (x == 10):\n",
    "    x = 17\n",
    "    print(\"x =\",x)\n",
    "    if ( x% 2 == 0):\n",
    "        print(\"x is even\",x)\n",
    "    else:\n",
    "        print(\"x is odd\",x)\n",
    "elif (x == 12):\n",
    "    x = 19\n",
    "    print(\"x is equal to\",x)\n",
    "else:\n",
    "    x = 21\n",
    "    print(\"x is equal to\",x) "
   ]
  },
  {
   "cell_type": "markdown",
   "id": "a2aa55b8",
   "metadata": {},
   "source": [
    "# Class 3"
   ]
  },
  {
   "cell_type": "markdown",
   "id": "5cfec2fa",
   "metadata": {},
   "source": [
    "# For Loop"
   ]
  },
  {
   "cell_type": "markdown",
   "id": "ae71f24a",
   "metadata": {},
   "source": [
    "For loop is used for repeating on a single object"
   ]
  },
  {
   "cell_type": "code",
   "execution_count": 156,
   "id": "c43730c0",
   "metadata": {},
   "outputs": [
    {
     "name": "stdout",
     "output_type": "stream",
     "text": [
      "0\n",
      "1\n",
      "2\n",
      "3\n",
      "4\n",
      "5\n",
      "6\n",
      "7\n",
      "8\n",
      "9\n"
     ]
    }
   ],
   "source": [
    "for i in range(10):\n",
    "    print(i)"
   ]
  },
  {
   "cell_type": "code",
   "execution_count": 163,
   "id": "562de6bb",
   "metadata": {},
   "outputs": [
    {
     "name": "stdout",
     "output_type": "stream",
     "text": [
      "51\n",
      "2\n",
      "53\n",
      "4\n"
     ]
    }
   ],
   "source": [
    "list1 = [51,2,53,4]\n",
    "for i in range(len(list1)):\n",
    "    print(list1[i])"
   ]
  },
  {
   "cell_type": "code",
   "execution_count": 165,
   "id": "1fe3186c",
   "metadata": {},
   "outputs": [
    {
     "name": "stdout",
     "output_type": "stream",
     "text": [
      "The square of 0 is 1\n",
      "The square of 1 is 4\n",
      "The square of 2 is 9\n",
      "The square of 3 is 16\n"
     ]
    }
   ],
   "source": [
    "list1 = [1,2,3,4]\n",
    "for i in range(len(list1)):\n",
    "    j =list1[i] * list1[i]\n",
    "    print(\"The square of {} is {}\".format(i,j))"
   ]
  },
  {
   "cell_type": "markdown",
   "id": "74f8b83c",
   "metadata": {},
   "source": [
    " the first {} will take i and second {} will take j {} are fictional parameters"
   ]
  },
  {
   "cell_type": "markdown",
   "id": "d1063946",
   "metadata": {},
   "source": [
    "# If Inside a for"
   ]
  },
  {
   "cell_type": "code",
   "execution_count": 166,
   "id": "bf359cdf",
   "metadata": {},
   "outputs": [
    {
     "name": "stdout",
     "output_type": "stream",
     "text": [
      "The square of 0 is 1\n",
      "The square of 1 is 4\n",
      "The square of 2 is 9\n",
      "The square of 3 is 16\n"
     ]
    }
   ],
   "source": [
    "list1 = [1,2,3,4]\n",
    "evenlist = []\n",
    "oddlist= []\n",
    "for i in range(len(list1)):\n",
    "    j =list1[i] * list1[i]\n",
    "    print(\"The square of {} is {}\".format(i,j))\n",
    "    if (j%2 == 0):\n",
    "        evenlist.append(j)\n",
    "    else:\n",
    "        oddlist.append(j)"
   ]
  },
  {
   "cell_type": "code",
   "execution_count": 167,
   "id": "dec6214e",
   "metadata": {},
   "outputs": [
    {
     "data": {
      "text/plain": [
       "[4, 16]"
      ]
     },
     "execution_count": 167,
     "metadata": {},
     "output_type": "execute_result"
    }
   ],
   "source": [
    "evenlist"
   ]
  },
  {
   "cell_type": "code",
   "execution_count": 168,
   "id": "14b28cf8",
   "metadata": {},
   "outputs": [
    {
     "data": {
      "text/plain": [
       "[1, 9]"
      ]
     },
     "execution_count": 168,
     "metadata": {},
     "output_type": "execute_result"
    }
   ],
   "source": [
    "oddlist"
   ]
  },
  {
   "cell_type": "markdown",
   "id": "2c05e35e",
   "metadata": {},
   "source": [
    "# Function"
   ]
  },
  {
   "cell_type": "markdown",
   "id": "c011a870",
   "metadata": {},
   "source": [
    "function repeatedly usable block of code"
   ]
  },
  {
   "cell_type": "code",
   "execution_count": 169,
   "id": "7895a2c8",
   "metadata": {},
   "outputs": [],
   "source": [
    "def add_2_nos():\n",
    "    return 10"
   ]
  },
  {
   "cell_type": "code",
   "execution_count": 171,
   "id": "64418527",
   "metadata": {},
   "outputs": [],
   "source": [
    "x = add_2_nos()"
   ]
  },
  {
   "cell_type": "code",
   "execution_count": 172,
   "id": "4ce1088b",
   "metadata": {},
   "outputs": [
    {
     "data": {
      "text/plain": [
       "10"
      ]
     },
     "execution_count": 172,
     "metadata": {},
     "output_type": "execute_result"
    }
   ],
   "source": [
    "x"
   ]
  },
  {
   "cell_type": "code",
   "execution_count": 173,
   "id": "0416da99",
   "metadata": {},
   "outputs": [
    {
     "data": {
      "text/plain": [
       "20"
      ]
     },
     "execution_count": 173,
     "metadata": {},
     "output_type": "execute_result"
    }
   ],
   "source": [
    "def add_ten(num):\n",
    "    return num+10\n",
    "x = add_ten(10)\n",
    "x"
   ]
  },
  {
   "cell_type": "code",
   "execution_count": 174,
   "id": "5c6b0830",
   "metadata": {},
   "outputs": [
    {
     "data": {
      "text/plain": [
       "30"
      ]
     },
     "execution_count": 174,
     "metadata": {},
     "output_type": "execute_result"
    }
   ],
   "source": [
    "def add_2_nums(num1,num2):\n",
    "    return num1+num2\n",
    "x = add_2_nums(10,20)\n",
    "x"
   ]
  },
  {
   "cell_type": "code",
   "execution_count": 175,
   "id": "20aa68f6",
   "metadata": {},
   "outputs": [
    {
     "data": {
      "text/plain": [
       "30"
      ]
     },
     "execution_count": 175,
     "metadata": {},
     "output_type": "execute_result"
    }
   ],
   "source": [
    "def add_2_nums(num1,num2 = 10):\n",
    "    return num1+num2\n",
    "x = add_2_nums(10,20)\n",
    "x"
   ]
  },
  {
   "cell_type": "code",
   "execution_count": 176,
   "id": "b0c664ac",
   "metadata": {},
   "outputs": [
    {
     "data": {
      "text/plain": [
       "20"
      ]
     },
     "execution_count": 176,
     "metadata": {},
     "output_type": "execute_result"
    }
   ],
   "source": [
    "def add_2_nums(num1,num2 = 10):\n",
    "    return num1+num2\n",
    "x = add_2_nums(10,) \n",
    "x"
   ]
  },
  {
   "cell_type": "markdown",
   "id": "451d442a",
   "metadata": {},
   "source": [
    "num2 have a default value, if we pass any value it will take that if not it will take the default value"
   ]
  },
  {
   "cell_type": "code",
   "execution_count": 177,
   "id": "0ee56124",
   "metadata": {},
   "outputs": [],
   "source": [
    "def func1(num1,*args):\n",
    "    print(num1)\n",
    "    for i in args:\n",
    "        print(i)"
   ]
  },
  {
   "cell_type": "code",
   "execution_count": 178,
   "id": "be525a36",
   "metadata": {},
   "outputs": [
    {
     "name": "stdout",
     "output_type": "stream",
     "text": [
      "10\n",
      "20\n",
      "30\n",
      "40\n"
     ]
    }
   ],
   "source": [
    "func1(10,20,30,40)"
   ]
  },
  {
   "cell_type": "markdown",
   "id": "d07092f0",
   "metadata": {},
   "source": [
    "*args used to pass a variable number of arguments to a function"
   ]
  },
  {
   "cell_type": "code",
   "execution_count": 181,
   "id": "333f124e",
   "metadata": {},
   "outputs": [
    {
     "name": "stdout",
     "output_type": "stream",
     "text": [
      "10\n"
     ]
    },
    {
     "data": {
      "text/plain": [
       "90"
      ]
     },
     "execution_count": 181,
     "metadata": {},
     "output_type": "execute_result"
    }
   ],
   "source": [
    "def func2(num1,*args):\n",
    "    print(num1)\n",
    "    j=0\n",
    "    for i in args:\n",
    "        j=j+i\n",
    "    return j\n",
    "x = func2(10,20,30,40)\n",
    "x"
   ]
  },
  {
   "cell_type": "markdown",
   "id": "984dce5b",
   "metadata": {},
   "source": [
    "# Dictionaries"
   ]
  },
  {
   "cell_type": "markdown",
   "id": "2d7f5098",
   "metadata": {},
   "source": [
    "Dictionary have key and values and it is denoted in {}"
   ]
  },
  {
   "cell_type": "code",
   "execution_count": 182,
   "id": "4d656916",
   "metadata": {},
   "outputs": [],
   "source": [
    "dict1 ={1:'a',2:'b'}"
   ]
  }
 ],
 "metadata": {
  "kernelspec": {
   "display_name": "Python 3 (ipykernel)",
   "language": "python",
   "name": "python3"
  },
  "language_info": {
   "codemirror_mode": {
    "name": "ipython",
    "version": 3
   },
   "file_extension": ".py",
   "mimetype": "text/x-python",
   "name": "python",
   "nbconvert_exporter": "python",
   "pygments_lexer": "ipython3",
   "version": "3.9.12"
  }
 },
 "nbformat": 4,
 "nbformat_minor": 5
}
