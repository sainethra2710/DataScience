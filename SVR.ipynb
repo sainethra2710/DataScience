{
 "cells": [
  {
   "cell_type": "code",
   "execution_count": 34,
   "id": "7f5670a6",
   "metadata": {},
   "outputs": [],
   "source": [
    "import numpy as np\n",
    "import pandas as pd\n",
    "import matplotlib.pyplot as plt"
   ]
  },
  {
   "cell_type": "code",
   "execution_count": 35,
   "id": "85fcbbf1",
   "metadata": {},
   "outputs": [],
   "source": [
    "df = pd.read_csv(r'PLR.csv')"
   ]
  },
  {
   "cell_type": "code",
   "execution_count": 36,
   "id": "40a1da94",
   "metadata": {},
   "outputs": [],
   "source": [
    "x=df.iloc[:,1:2].values"
   ]
  },
  {
   "cell_type": "code",
   "execution_count": 37,
   "id": "f021b683",
   "metadata": {},
   "outputs": [],
   "source": [
    "y=df.iloc[:,2].values"
   ]
  },
  {
   "cell_type": "code",
   "execution_count": 38,
   "id": "37da76e0",
   "metadata": {},
   "outputs": [],
   "source": [
    "from sklearn.svm import SVR"
   ]
  },
  {
   "cell_type": "code",
   "execution_count": 39,
   "id": "15db868d",
   "metadata": {},
   "outputs": [],
   "source": [
    "regressor = SVR()"
   ]
  },
  {
   "cell_type": "code",
   "execution_count": null,
   "id": "cf9be1d3",
   "metadata": {},
   "outputs": [],
   "source": [
    "regressor = SVR(kernel=\"poly\",degree=3,gamma='scale')"
   ]
  },
  {
   "cell_type": "code",
   "execution_count": 40,
   "id": "4dd4706c",
   "metadata": {},
   "outputs": [],
   "source": [
    "regressor = SVR(kernel=\"poly\",degree=4,gamma='auto')"
   ]
  },
  {
   "cell_type": "code",
   "execution_count": 41,
   "id": "8d55df0b",
   "metadata": {},
   "outputs": [
    {
     "data": {
      "text/plain": [
       "SVR(degree=4, gamma='auto', kernel='poly')"
      ]
     },
     "execution_count": 41,
     "metadata": {},
     "output_type": "execute_result"
    }
   ],
   "source": [
    "regressor.fit(x,y)"
   ]
  },
  {
   "cell_type": "code",
   "execution_count": 42,
   "id": "53107f31",
   "metadata": {},
   "outputs": [],
   "source": [
    "y_pred = regressor.predict([[6.5]])"
   ]
  },
  {
   "cell_type": "code",
   "execution_count": 43,
   "id": "404d54f3",
   "metadata": {},
   "outputs": [
    {
     "data": {
      "text/plain": [
       "array([175707.67298155])"
      ]
     },
     "execution_count": 43,
     "metadata": {},
     "output_type": "execute_result"
    }
   ],
   "source": [
    "y_pred"
   ]
  },
  {
   "cell_type": "code",
   "execution_count": 44,
   "id": "403d19f7",
   "metadata": {},
   "outputs": [
    {
     "data": {
      "text/plain": [
       "Text(0.5, 1.0, 'SVR')"
      ]
     },
     "execution_count": 44,
     "metadata": {},
     "output_type": "execute_result"
    },
    {
     "data": {
      "image/png": "[encoded data removed]",
      "text/plain": [
       "<Figure size 432x288 with 1 Axes>"
      ]
     },
     "metadata": {
      "needs_background": "light"
     },
     "output_type": "display_data"
    }
   ],
   "source": [
    "plt.scatter(x,y,color='red')\n",
    "plt.plot(x,regressor.predict(x),color='blue')\n",
    "plt.title('SVR')"
   ]
  },
  {
   "cell_type": "code",
   "execution_count": 46,
   "id": "d1699d72",
   "metadata": {},
   "outputs": [],
   "source": [
    "import statsmodels.api as sm"
   ]
  },
  {
   "cell_type": "code",
   "execution_count": 47,
   "id": "d39e67c3",
   "metadata": {},
   "outputs": [
    {
     "name": "stderr",
     "output_type": "stream",
     "text": [
      "/Users/nethrachekuri/opt/anaconda3/lib/python3.9/site-packages/scipy/stats/stats.py:1541: UserWarning: kurtosistest only valid for n>=20 ... continuing anyway, n=10\n",
      "  warnings.warn(\"kurtosistest only valid for n>=20 ... continuing \"\n"
     ]
    },
    {
     "data": {
      "text/html": [
       "<table class=\"simpletable\">\n",
       "<caption>OLS Regression Results</caption>\n",
       "<tr>\n",
       "  <th>Dep. Variable:</th>            <td>y</td>        <th>  R-squared (uncentered):</th>      <td>   0.756</td>\n",
       "</tr>\n",
       "<tr>\n",
       "  <th>Model:</th>                   <td>OLS</td>       <th>  Adj. R-squared (uncentered):</th> <td>   0.729</td>\n",
       "</tr>\n",
       "<tr>\n",
       "  <th>Method:</th>             <td>Least Squares</td>  <th>  F-statistic:       </th>          <td>   27.88</td>\n",
       "</tr>\n",
       "<tr>\n",
       "  <th>Date:</th>             <td>Thu, 29 Dec 2022</td> <th>  Prob (F-statistic):</th>          <td>0.000507</td>\n",
       "</tr>\n",
       "<tr>\n",
       "  <th>Time:</th>                 <td>13:18:25</td>     <th>  Log-Likelihood:    </th>          <td> -135.56</td>\n",
       "</tr>\n",
       "<tr>\n",
       "  <th>No. Observations:</th>      <td>    10</td>      <th>  AIC:               </th>          <td>   273.1</td>\n",
       "</tr>\n",
       "<tr>\n",
       "  <th>Df Residuals:</th>          <td>     9</td>      <th>  BIC:               </th>          <td>   273.4</td>\n",
       "</tr>\n",
       "<tr>\n",
       "  <th>Df Model:</th>              <td>     1</td>      <th>                     </th>              <td> </td>   \n",
       "</tr>\n",
       "<tr>\n",
       "  <th>Covariance Type:</th>      <td>nonrobust</td>    <th>                     </th>              <td> </td>   \n",
       "</tr>\n",
       "</table>\n",
       "<table class=\"simpletable\">\n",
       "<tr>\n",
       "   <td></td>     <th>coef</th>     <th>std err</th>      <th>t</th>      <th>P>|t|</th>  <th>[0.025</th>    <th>0.975]</th>  \n",
       "</tr>\n",
       "<tr>\n",
       "  <th>x1</th> <td> 5.297e+04</td> <td>    1e+04</td> <td>    5.281</td> <td> 0.001</td> <td> 3.03e+04</td> <td> 7.57e+04</td>\n",
       "</tr>\n",
       "</table>\n",
       "<table class=\"simpletable\">\n",
       "<tr>\n",
       "  <th>Omnibus:</th>       <td>20.006</td> <th>  Durbin-Watson:     </th> <td>   0.658</td>\n",
       "</tr>\n",
       "<tr>\n",
       "  <th>Prob(Omnibus):</th> <td> 0.000</td> <th>  Jarque-Bera (JB):  </th> <td>  12.131</td>\n",
       "</tr>\n",
       "<tr>\n",
       "  <th>Skew:</th>          <td> 2.116</td> <th>  Prob(JB):          </th> <td> 0.00232</td>\n",
       "</tr>\n",
       "<tr>\n",
       "  <th>Kurtosis:</th>      <td> 6.346</td> <th>  Cond. No.          </th> <td>    1.00</td>\n",
       "</tr>\n",
       "</table><br/><br/>Notes:<br/>[1] R² is computed without centering (uncentered) since the model does not contain a constant.<br/>[2] Standard Errors assume that the covariance matrix of the errors is correctly specified."
      ],
      "text/plain": [
       "<class 'statsmodels.iolib.summary.Summary'>\n",
       "\"\"\"\n",
       "                                 OLS Regression Results                                \n",
       "=======================================================================================\n",
       "Dep. Variable:                      y   R-squared (uncentered):                   0.756\n",
       "Model:                            OLS   Adj. R-squared (uncentered):              0.729\n",
       "Method:                 Least Squares   F-statistic:                              27.88\n",
       "Date:                Thu, 29 Dec 2022   Prob (F-statistic):                    0.000507\n",
       "Time:                        13:18:25   Log-Likelihood:                         -135.56\n",
       "No. Observations:                  10   AIC:                                      273.1\n",
       "Df Residuals:                       9   BIC:                                      273.4\n",
       "Df Model:                           1                                                  \n",
       "Covariance Type:            nonrobust                                                  \n",
       "==============================================================================\n",
       "                 coef    std err          t      P>|t|      [0.025      0.975]\n",
       "------------------------------------------------------------------------------\n",
       "x1          5.297e+04      1e+04      5.281      0.001    3.03e+04    7.57e+04\n",
       "==============================================================================\n",
       "Omnibus:                       20.006   Durbin-Watson:                   0.658\n",
       "Prob(Omnibus):                  0.000   Jarque-Bera (JB):               12.131\n",
       "Skew:                           2.116   Prob(JB):                      0.00232\n",
       "Kurtosis:                       6.346   Cond. No.                         1.00\n",
       "==============================================================================\n",
       "\n",
       "Notes:\n",
       "[1] R² is computed without centering (uncentered) since the model does not contain a constant.\n",
       "[2] Standard Errors assume that the covariance matrix of the errors is correctly specified.\n",
       "\"\"\""
      ]
     },
     "execution_count": 47,
     "metadata": {},
     "output_type": "execute_result"
    }
   ],
   "source": [
    "regressor_OLS = sm.OLS(endog=y,exog=x).fit()\n",
    "regressor_OLS.summary() "
   ]
  },
  {
   "cell_type": "code",
   "execution_count": null,
   "id": "511017de",
   "metadata": {},
   "outputs": [],
   "source": []
  },
  {
   "cell_type": "code",
   "execution_count": null,
   "id": "564315e3",
   "metadata": {},
   "outputs": [],
   "source": []
  }
 ],
 "metadata": {
  "kernelspec": {
   "display_name": "Python 3 (ipykernel)",
   "language": "python",
   "name": "python3"
  },
  "language_info": {
   "codemirror_mode": {
    "name": "ipython",
    "version": 3
   },
   "file_extension": ".py",
   "mimetype": "text/x-python",
   "name": "python",
   "nbconvert_exporter": "python",
   "pygments_lexer": "ipython3",
   "version": "3.9.12"
  }
 },
 "nbformat": 4,
 "nbformat_minor": 5
}
